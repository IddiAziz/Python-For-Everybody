{
 "cells": [
  {
   "cell_type": "markdown",
   "metadata": {},
   "source": [
    "# 1.4: Words and Sentences in Python"
   ]
  },
  {
   "cell_type": "markdown",
   "metadata": {},
   "source": [
    "Unlike human languages, the Python vocabulary is actually pretty small. We call this \"vocabulary\" the \"reserved words\". These are words that have very special meaning to Python. And these reserved words have only one meaning in a Python programme, unlike natural languages where we've got synonyms.\n",
    "But one can write his/her words in a python program, which we call \"variables\", but you can't use any of Python's reserved words as a name for a variable.\n",
    "\n",
    "When a dog is trained, it fathoms special words like, \"sit\", and \"fetch\". When you talk to a dog in the reserved words it fathoms, it simultaneously corresponds to the tasked, but when you don't used the reserved words, it looks at you quizzically, for it understands not what you're saying. A very good example is when you \"Let's walk to the field and play football\". What the dog likely hears is \"blah, blah, blha, walk, blah, blah, blah,\". That is because \"walk\" is a reserved word in a dog language.\n",
    "\n",
    "Below are some reserved words in the language where humans talk to Python include the following:\n",
    "\n",
    "and       del       global       not      with      as      elif      if \n",
    "or        yield     assert       else     import    pass    break     except\n",
    "in        raise     class        finally  is        return  continue  for\n",
    "lambda    try       def          from     nonlocal  while   \n",
    "\n",
    "That is it, and unlike a dog, Python is already trained completely. When you say \"try\", Python will try every time you say it without fail.\n",
    "Our focuse will be on Python equivalent of \"speak\" (in human-to-dog language). The nice thing about telling Python to speak is that we can even tell it what to say by giving it a message in quotes:\n",
    "\n",
    "print('Hello world!').\n",
    "\n",
    "and we have even written our first syntically correct Python sentence. Our sentences starts with the function print followed by a text of our choosing enclosed in single quotes.\n"
   ]
  },
  {
   "cell_type": "markdown",
   "metadata": {},
   "source": [
    "# 1.5 Conversing with Python"
   ]
  },
  {
   "cell_type": "code",
   "execution_count": null,
   "metadata": {},
   "outputs": [],
   "source": []
  }
 ],
 "metadata": {
  "kernelspec": {
   "display_name": "Python 3",
   "language": "python",
   "name": "python3"
  },
  "language_info": {
   "codemirror_mode": {
    "name": "ipython",
    "version": 3
   },
   "file_extension": ".py",
   "mimetype": "text/x-python",
   "name": "python",
   "nbconvert_exporter": "python",
   "pygments_lexer": "ipython3",
   "version": "3.7.0"
  }
 },
 "nbformat": 4,
 "nbformat_minor": 2
}
